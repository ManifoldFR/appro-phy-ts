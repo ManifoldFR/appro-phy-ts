{
 "cells": [
  {
   "cell_type": "code",
   "execution_count": 1,
   "metadata": {
    "collapsed": true
   },
   "outputs": [],
   "source": [
    "%matplotlib tk"
   ]
  },
  {
   "cell_type": "code",
   "execution_count": 1,
   "metadata": {
    "collapsed": true
   },
   "outputs": [],
   "source": [
    "%matplotlib inline"
   ]
  },
  {
   "cell_type": "code",
   "execution_count": 2,
   "metadata": {
    "collapsed": true
   },
   "outputs": [],
   "source": [
    "import sympy as sp\n",
    "import numpy as np\n",
    "import matplotlib.pyplot as plt\n",
    "sp.init_printing()"
   ]
  },
  {
   "cell_type": "code",
   "execution_count": 3,
   "metadata": {
    "collapsed": true
   },
   "outputs": [],
   "source": [
    "from scipy import special as spec"
   ]
  },
  {
   "cell_type": "code",
   "execution_count": 4,
   "metadata": {
    "collapsed": true
   },
   "outputs": [],
   "source": [
    "omega = sp.symbols(\"omega\", real=True)\n",
    "gamma = sp.symbols(\"gamma\", real=True)\n",
    "t = sp.symbols(\"t\", real=True)"
   ]
  },
  {
   "cell_type": "code",
   "execution_count": 5,
   "metadata": {
    "collapsed": true
   },
   "outputs": [],
   "source": [
    "expr = sp.exp(sp.I*(omega+sp.I*gamma)*t)"
   ]
  },
  {
   "cell_type": "code",
   "execution_count": 6,
   "metadata": {
    "collapsed": false
   },
   "outputs": [
    {
     "data": {
      "image/png": "[encoded data removed]",
      "text/latex": [
       "$$e^{i t \\left(i \\gamma + \\omega\\right)}$$"
      ],
      "text/plain": [
       " ⅈ⋅t⋅(ⅈ⋅γ + ω)\n",
       "ℯ             "
      ]
     },
     "execution_count": 6,
     "metadata": {},
     "output_type": "execute_result"
    }
   ],
   "source": [
    "expr"
   ]
  },
  {
   "cell_type": "code",
   "execution_count": 7,
   "metadata": {
    "collapsed": false
   },
   "outputs": [
    {
     "data": {
      "image/png": "[encoded data removed]",
      "text/latex": [
       "$$e^{- \\gamma t} \\cos{\\left (\\omega t \\right )}$$"
      ],
      "text/plain": [
       " -γ⋅t         \n",
       "ℯ    ⋅cos(ω⋅t)"
      ]
     },
     "execution_count": 7,
     "metadata": {},
     "output_type": "execute_result"
    }
   ],
   "source": [
    "sp.re(expr)"
   ]
  },
  {
   "cell_type": "code",
   "execution_count": 8,
   "metadata": {
    "collapsed": false
   },
   "outputs": [],
   "source": [
    "r = sp.symbols(\"r\", positive=True)\n",
    "c = sp.symbols(\"c\")\n",
    "omegap = sp.symbols(\"omega_p\")\n",
    "k = sp.conjugate(sp.sqrt(omega**2-omegap**2))/c"
   ]
  },
  {
   "cell_type": "code",
   "execution_count": 9,
   "metadata": {
    "collapsed": false
   },
   "outputs": [
    {
     "data": {
      "image/png": "[encoded data removed]",
      "text/latex": [
       "$$e^{i \\omega t} H^{(2)}_{0}\\left(\\frac{r}{c} \\overline{\\sqrt{\\omega^{2} - \\omega_{p}^{2}}}\\right)$$"
      ],
      "text/plain": [
       "              ⎛     _____________⎞\n",
       "              ⎜        __________⎟\n",
       "              ⎜       ╱  2     2 ⎟\n",
       " ⅈ⋅ω⋅t        ⎜   r⋅╲╱  ω  - ωₚ  ⎟\n",
       "ℯ     ⋅hankel₂⎜0, ───────────────⎟\n",
       "              ⎝          c       ⎠"
      ]
     },
     "execution_count": 9,
     "metadata": {},
     "output_type": "execute_result"
    }
   ],
   "source": [
    "expr2 = sp.hankel2(0,k*r)*sp.exp(sp.I*omega*t)\n",
    "expr2"
   ]
  },
  {
   "cell_type": "code",
   "execution_count": 10,
   "metadata": {
    "collapsed": false,
    "scrolled": true
   },
   "outputs": [
    {
     "data": {
      "image/png": "[encoded data removed]",
      "text/latex": [
       "$$\\Re{\\left(e^{i \\omega t} H^{(2)}_{0}\\left(\\frac{r}{c} \\overline{\\sqrt{\\omega^{2} - \\omega_{p}^{2}}}\\right)\\right)}$$"
      ],
      "text/plain": [
       "  ⎛              ⎛     _____________⎞⎞\n",
       "  ⎜              ⎜        __________⎟⎟\n",
       "  ⎜              ⎜       ╱  2     2 ⎟⎟\n",
       "  ⎜ ⅈ⋅ω⋅t        ⎜   r⋅╲╱  ω  - ωₚ  ⎟⎟\n",
       "re⎜ℯ     ⋅hankel₂⎜0, ───────────────⎟⎟\n",
       "  ⎝              ⎝          c       ⎠⎠"
      ]
     },
     "execution_count": 10,
     "metadata": {},
     "output_type": "execute_result"
    }
   ],
   "source": [
    "sp.re(expr2)"
   ]
  },
  {
   "cell_type": "code",
   "execution_count": 11,
   "metadata": {
    "collapsed": false
   },
   "outputs": [],
   "source": [
    "def graphos2():\n",
    "    def racine(x):\n",
    "        y = np.sqrt(x+0j)\n",
    "        return np.conjugate(y)\n",
    "    dico = dict(hankel2=spec.hankel2, sqrt=racine)\n",
    "    pulsPlasma = 1.78e13\n",
    "    \n",
    "    def sub(om):\n",
    "        return {omega: om, c:3e8, omegap:pulsPlasma}\n",
    "    oml = [1.779e13,1.781e13,2e13]\n",
    "    wave = sum(expr2.subs(sub(omv)) for omv in oml)\n",
    "    f = sp.lambdify([r, t], sp.re(wave), \n",
    "                    modules=[dico, \"numpy\"])\n",
    "\n",
    "    times = [0.5e-9*k for k in [0]]\n",
    "    N = len(times)\n",
    "    rad = np.linspace(0,1e-2,400)\n",
    "    \n",
    "    fig = plt.figure(1, figsize=(8,5))\n",
    "    fig.clf()\n",
    "    ax = fig.add_subplot(111)\n",
    "    ax.grid(True)\n",
    "    for i, ti in enumerate(times):    \n",
    "        leg = r\"$t={}$ s\".format(ti)\n",
    "        valArr = f(rad, ti)\n",
    "        ax.plot(rad, valArr, label=leg)\n",
    "    ax.legend()\n",
    "    fig.tight_layout()\n",
    "    return wave, f"
   ]
  },
  {
   "cell_type": "code",
   "execution_count": 12,
   "metadata": {
    "collapsed": false,
    "scrolled": false
   },
   "outputs": [],
   "source": [
    "wave,f = graphos2()"
   ]
  },
  {
   "cell_type": "code",
   "execution_count": 13,
   "metadata": {
    "collapsed": true
   },
   "outputs": [],
   "source": [
    "def pld():\n",
    "    def racine(p):\n",
    "        y = np.sqrt(p+0j)\n",
    "        return np.conjugate(y)\n",
    "    fig = plt.figure(0)\n",
    "    ax = fig.add_subplot(111)\n",
    "    xar = np.linspace(0,10,100)\n",
    "    f = lambda x:(spec.hankel2(0,racine(-1)*x))\n",
    "    vals = f(xar)\n",
    "    ax.grid(True)\n",
    "    ax.plot(xar, vals.real)\n",
    "    ax.plot(xar, vals.imag)"
   ]
  },
  {
   "cell_type": "code",
   "execution_count": 14,
   "metadata": {
    "collapsed": false
   },
   "outputs": [],
   "source": [
    "pld()"
   ]
  }
 ],
 "metadata": {
  "kernelspec": {
   "display_name": "Python 3",
   "language": "python",
   "name": "python3"
  },
  "language_info": {
   "codemirror_mode": {
    "name": "ipython",
    "version": 3
   },
   "file_extension": ".py",
   "mimetype": "text/x-python",
   "name": "python",
   "nbconvert_exporter": "python",
   "pygments_lexer": "ipython3",
   "version": "3.5.2"
  }
 },
 "nbformat": 4,
 "nbformat_minor": 2
}
