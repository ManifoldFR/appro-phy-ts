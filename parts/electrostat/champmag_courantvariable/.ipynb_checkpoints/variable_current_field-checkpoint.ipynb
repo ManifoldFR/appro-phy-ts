{
 "cells": [
  {
   "cell_type": "code",
   "execution_count": 1,
   "metadata": {
    "collapsed": false,
    "scrolled": false
   },
   "outputs": [],
   "source": [
    "%matplotlib inline\n",
    "import matplotlib.pyplot as plt\n",
    "import matplotlib.cm as cm\n",
    "import matplotlib.colors as colors\n",
    "from matplotlib.mlab import bivariate_normal\n",
    "\n",
    "import numpy as np\n",
    "import sympy as sp\n",
    "import scipy.special as spec\n",
    "\n",
    "r = sp.symbols('r')\n",
    "t = sp.S('t')\n",
    "\n",
    "sp.init_printing()"
   ]
  },
  {
   "cell_type": "code",
   "execution_count": 2,
   "metadata": {
    "collapsed": false
   },
   "outputs": [
    {
     "data": {
      "image/png": "[encoded data removed]",
      "text/latex": [
       "$$J_{0}\\left(0.0837758040957278 r\\right) + J_{0}\\left(0.0942477796076938 r\\right) + J_{0}\\left(0.10471975511966 r\\right) + J_{0}\\left(0.837758040957278 r\\right) + J_{0}\\left(0.942477796076938 r\\right) + J_{0}\\left(1.0471975511966 r\\right) - Y_{0}\\left(0.0837758040957278 r\\right) - Y_{0}\\left(0.0942477796076938 r\\right) - Y_{0}\\left(0.10471975511966 r\\right) - Y_{0}\\left(0.837758040957278 r\\right) - Y_{0}\\left(0.942477796076938 r\\right) - Y_{0}\\left(1.0471975511966 r\\right)$$"
      ],
      "text/plain": [
       "besselj(0, 0.0837758040957278⋅r) + besselj(0, 0.0942477796076938⋅r) + besselj(\n",
       "0, 0.10471975511966⋅r) + besselj(0, 0.837758040957278⋅r) + besselj(0, 0.942477\n",
       "796076938⋅r) + besselj(0, 1.0471975511966⋅r) - bessely(0, 0.0837758040957278⋅r\n",
       ") - bessely(0, 0.0942477796076938⋅r) - bessely(0, 0.10471975511966⋅r) - bessel\n",
       "y(0, 0.837758040957278⋅r) - bessely(0, 0.942477796076938⋅r) - bessely(0, 1.047\n",
       "1975511966⋅r)"
      ]
     },
     "execution_count": 2,
     "metadata": {},
     "output_type": "execute_result"
    }
   ],
   "source": [
    "c = 3e8\n",
    "omega = sp.S('omega')\n",
    "k = omega/c\n",
    "\n",
    "puls = [n*np.pi*1e7 for n in range(8,11)] + [n*np.pi*1e6 for n in range(8,11)]\n",
    "\n",
    "B_field_omega = sp.besselj(0,k*r) - sp.bessely(0,k*r)\n",
    "B_field = sum([B_field_omega.subs(omega, om) for om in puls])\n",
    "B_function = sp.lambdify((r, omega), B_field, modules=['numpy',{\"besselj\":spec.jn, \"bessely\":spec.yn}])\n",
    "\n",
    "B_field"
   ]
  },
  {
   "cell_type": "code",
   "execution_count": 7,
   "metadata": {
    "collapsed": true
   },
   "outputs": [],
   "source": [
    "def graphe_B():\n",
    "    omega = 1e8\n",
    "    \n",
    "    rmax = 100\n",
    "    radii = np.linspace(0.1,rmax,10*rmax)\n",
    "    \n",
    "    champ = B_function(radii,omega)\n",
    "    \n",
    "    fig, ax = plt.subplots(1,1)\n",
    "    \n",
    "    ax.grid()\n",
    "    ax.plot(radii, champ)\n",
    "    \n",
    "    ax.set_title(r'Champ magnétique créé par un courant variable')\n",
    "    \n",
    "    fig.t\n",
    "    \n",
    "    return fig"
   ]
  },
  {
   "cell_type": "code",
   "execution_count": 8,
   "metadata": {
    "collapsed": false,
    "scrolled": false
   },
   "outputs": [
    {
     "data": {
      "image/png": "[encoded data removed]",
      "text/plain": [
       "<matplotlib.figure.Figure at 0x2575cc1eba8>"
      ]
     },
     "metadata": {},
     "output_type": "display_data"
    }
   ],
   "source": [
    "graphe_Btheta = graphe_B()"
   ]
  },
  {
   "cell_type": "code",
   "execution_count": 9,
   "metadata": {
    "collapsed": true
   },
   "outputs": [],
   "source": [
    "graphe_Btheta.savefig('profil_champ.png')"
   ]
  },
  {
   "cell_type": "code",
   "execution_count": null,
   "metadata": {
    "collapsed": false
   },
   "outputs": [],
   "source": [
    "def build_field():    \n",
    "    rmax = 10\n",
    "    wind = 60\n",
    "    \n",
    "    omega = 1e8\n",
    "    \n",
    "    Y, X = np.ogrid[-wind:wind:wind*10j, -wind:wind:wind*10j]\n",
    "    \n",
    "    def field_func(x,y):\n",
    "        r = np.sqrt(x*x+y*y)\n",
    "        Btheta = B_function(r, omega)\n",
    "        direct = np.array([-y/r, x/r])\n",
    "        return Btheta*direct\n",
    "    \n",
    "    field_X, field_Y = field_func(X, Y)\n",
    "    \n",
    "    \n",
    "    color = np.exp(-np.sqrt(field_X**2 + field_Y**2))\n",
    "    \n",
    "    fig, ax = plt.subplots(1, 1, figsize=(8,8))\n",
    "    ax.grid()\n",
    "    ax.set_aspect('equal')\n",
    "    \n",
    "    ax.set_xlim((-wind,wind))\n",
    "    ax.set_ylim((-wind,wind))\n",
    "    \n",
    "    Z = np.exp(-2*np.sqrt(field_X**2+field_Y**2))\n",
    "    Z = np.nan_to_num(Z)\n",
    "    \n",
    "    strm = ax.streamplot(X,Y, field_X, field_Y, \n",
    "        arrowstyle='->', \n",
    "        arrowsize=2, \n",
    "        color=Z,\n",
    "        cmap=plt.cm.inferno,density=2 \n",
    "        )\n",
    "    \n",
    "    #fig.colorbar(strm.lines)\n",
    "    \n",
    "    fig.tight_layout()\n",
    "    \n",
    "    return fig\n",
    "    "
   ]
  },
  {
   "cell_type": "code",
   "execution_count": null,
   "metadata": {
    "collapsed": false,
    "scrolled": false
   },
   "outputs": [],
   "source": [
    "output_field = build_field()"
   ]
  },
  {
   "cell_type": "code",
   "execution_count": null,
   "metadata": {
    "collapsed": false
   },
   "outputs": [],
   "source": [
    "output_field.savefig(\"champmag_courant_variable.png\")"
   ]
  }
 ],
 "metadata": {
  "anaconda-cloud": {},
  "kernelspec": {
   "display_name": "Python [default]",
   "language": "python",
   "name": "python3"
  },
  "language_info": {
   "codemirror_mode": {
    "name": "ipython",
    "version": 3
   },
   "file_extension": ".py",
   "mimetype": "text/x-python",
   "name": "python",
   "nbconvert_exporter": "python",
   "pygments_lexer": "ipython3",
   "version": "3.5.2"
  }
 },
 "nbformat": 4,
 "nbformat_minor": 1
}
