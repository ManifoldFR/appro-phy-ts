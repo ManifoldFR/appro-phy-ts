{
 "cells": [
  {
   "cell_type": "code",
   "execution_count": 225,
   "metadata": {
    "collapsed": false
   },
   "outputs": [],
   "source": [
    "%matplotlib inline\n",
    "import sympy as sp\n",
    "import numpy as np\n",
    "import matplotlib.pyplot as plt\n",
    "sp.init_printing()\n",
    "\n",
    "import theano\n",
    "from sympy.printing.theanocode import theano_function\n",
    "from sympy.utilities.autowrap import ufuncify"
   ]
  },
  {
   "cell_type": "code",
   "execution_count": 2,
   "metadata": {
    "collapsed": true
   },
   "outputs": [],
   "source": [
    "r = sp.Symbol('r', positive=True)\n",
    "t, omega = sp.symbols('t omega', real = True)\n",
    "c = sp.symbols('c', positive=True)"
   ]
  },
  {
   "cell_type": "code",
   "execution_count": 5,
   "metadata": {
    "collapsed": true
   },
   "outputs": [],
   "source": [
    "expr = sp.exp(sp.I*omega*t)"
   ]
  },
  {
   "cell_type": "code",
   "execution_count": 6,
   "metadata": {
    "collapsed": false,
    "scrolled": true
   },
   "outputs": [
    {
     "data": {
      "image/png": "[encoded data removed]",
      "text/latex": [
       "$$e^{i \\omega t}$$"
      ],
      "text/plain": [
       " ⅈ⋅ω⋅t\n",
       "ℯ     "
      ]
     },
     "execution_count": 6,
     "metadata": {},
     "output_type": "execute_result"
    }
   ],
   "source": [
    "expr"
   ]
  },
  {
   "cell_type": "code",
   "execution_count": 114,
   "metadata": {
    "collapsed": false
   },
   "outputs": [
    {
     "data": {
      "text/plain": [
       "array([ 8.75455085,  2.63324013,  0.62232011,  3.4099195 ,  8.11668144,\n",
       "        9.72658522,  3.96796024,  5.75143906,  4.28002013,  1.92501512,\n",
       "        0.23030682,  5.58840203,  2.87538128,  3.86532603,  1.45483584,\n",
       "        9.27311266,  0.07415625,  4.43798726,  3.51993097,  0.66894574])"
      ]
     },
     "execution_count": 114,
     "metadata": {},
     "output_type": "execute_result"
    }
   ],
   "source": [
    "lo = 10*np.random.rand(20)\n",
    "lo"
   ]
  },
  {
   "cell_type": "code",
   "execution_count": 182,
   "metadata": {
    "collapsed": false
   },
   "outputs": [
    {
     "data": {
      "text/plain": [
       "array([  1.57741829e-04,   7.18452964e-02,   5.36697795e-01,\n",
       "         3.30438602e-02,   2.98517666e-04,   5.96757258e-05,\n",
       "         1.89119697e-02,   3.17820387e-03,   1.38423835e-02,\n",
       "         1.45873551e-01,   7.94289863e-01,   3.74100109e-03,\n",
       "         5.63946333e-02,   2.09560890e-02,   2.33438683e-01,\n",
       "         9.39157309e-05,   9.28526604e-01,   1.18197046e-02,\n",
       "         2.96014785e-02,   5.12248338e-01])"
      ]
     },
     "execution_count": 182,
     "metadata": {},
     "output_type": "execute_result"
    }
   ],
   "source": [
    "lCur = np.exp(-lo)\n",
    "lCur"
   ]
  },
  {
   "cell_type": "code",
   "execution_count": 239,
   "metadata": {
    "collapsed": false
   },
   "outputs": [],
   "source": [
    "def dessiner(draw=False):\n",
    "    cur = sp.symbols('I')\n",
    "    expr2 = cur*expr\n",
    "    \n",
    "    N = sp.symbols('N')\n",
    "    oms = sp.IndexedBase('omega')\n",
    "    curs = sp.IndexedBase('I')\n",
    "    ind = sp.Idx('n')\n",
    "    dico = {cur:curs[ind], omega:oms[ind]}\n",
    "    noy = sp.Sum(expr2.subs(dico), (ind,0,N-1))\n",
    "    \n",
    "    Sr = sp.DeferredVector('S')\n",
    "    f = sp.lambdify([t, Sr, N], \n",
    "            noy.subs({curs:Sr[0] , oms:Sr[1]}), \"numpy\")\n",
    "    def ft(ti):\n",
    "        spct = np.vstack((lCur, lo))\n",
    "        return f(ti, spct, len(lo))\n",
    "    ta = np.linspace(0,6,300)\n",
    "    vala = ft(ta)\n",
    "    \n",
    "    if draw:\n",
    "        plt.clf()\n",
    "        fig = plt.figure(0)\n",
    "        ax = fig.add_subplot(111)\n",
    "        ax.grid(True)\n",
    "        \n",
    "        ax.set_xlabel(r\"Temps $t$\")\n",
    "        ax.set_ylabel(r\"Signal $s(t)$\")\n",
    "        ax.plot(ta, vala.real)\n",
    "        ax.plot(ta, vala.imag)\n",
    "    return ft, noy"
   ]
  },
  {
   "cell_type": "code",
   "execution_count": 240,
   "metadata": {
    "collapsed": false
   },
   "outputs": [
    {
     "name": "stdout",
     "output_type": "stream",
     "text": [
      "100 loops, best of 3: 6.11 ms per loop\n"
     ]
    }
   ],
   "source": [
    "%timeit func, noy = dessiner()"
   ]
  },
  {
   "cell_type": "code",
   "execution_count": 195,
   "metadata": {
    "collapsed": false
   },
   "outputs": [
    {
     "data": {
      "image/png": "[encoded data removed]",
      "text/latex": [
       "$$\\sum_{n=0}^{N - 1} e^{i t \\omega_{n}} I_{n}$$"
      ],
      "text/plain": [
       "N - 1                   \n",
       " ___                    \n",
       " ╲                      \n",
       "  ╲    ⅈ⋅t⋅omega[n]     \n",
       "  ╱   ℯ            ⋅I[n]\n",
       " ╱                      \n",
       " ‾‾‾                    \n",
       "n = 0                   "
      ]
     },
     "execution_count": 195,
     "metadata": {},
     "output_type": "execute_result"
    }
   ],
   "source": [
    "noy"
   ]
  },
  {
   "cell_type": "code",
   "execution_count": 237,
   "metadata": {
    "collapsed": false
   },
   "outputs": [],
   "source": [
    "def dessinerbis(draw=False):\n",
    "    cur = sp.symbols('I')\n",
    "    expr2 = cur*expr\n",
    "    \n",
    "    spct = np.vstack((lCur, lo))\n",
    "    noy = sum([expr2.subs({cur:val1, omega:val2})\n",
    "              for val1,val2 in zip(lCur,lo)])\n",
    "    \n",
    "    ft = sp.lambdify(t, noy, 'numpy')\n",
    "    ta = np.linspace(0,6,300)\n",
    "    vala = ft(ta)\n",
    "    \n",
    "    if draw:\n",
    "        plt.clf()\n",
    "        fig = plt.figure(0)\n",
    "        ax = fig.add_subplot(111)\n",
    "        ax.grid(True)\n",
    "        \n",
    "        ax.set_xlabel(r\"Temps $t$\")\n",
    "        ax.set_ylabel(r\"Signal $s(t)$\")\n",
    "        ax.plot(ta, vala.real)\n",
    "        ax.plot(ta, vala.imag)\n",
    "    return ft, noy"
   ]
  },
  {
   "cell_type": "code",
   "execution_count": 238,
   "metadata": {
    "collapsed": false
   },
   "outputs": [
    {
     "name": "stdout",
     "output_type": "stream",
     "text": [
      "10 loops, best of 3: 73.3 ms per loop\n"
     ]
    }
   ],
   "source": [
    "%timeit dessinerbis()"
   ]
  },
  {
   "cell_type": "code",
   "execution_count": null,
   "metadata": {
    "collapsed": true
   },
   "outputs": [],
   "source": []
  },
  {
   "cell_type": "code",
   "execution_count": null,
   "metadata": {
    "collapsed": true
   },
   "outputs": [],
   "source": []
  }
 ],
 "metadata": {
  "kernelspec": {
   "display_name": "Python [default]",
   "language": "python",
   "name": "python3"
  },
  "language_info": {
   "codemirror_mode": {
    "name": "ipython",
    "version": 3
   },
   "file_extension": ".py",
   "mimetype": "text/x-python",
   "name": "python",
   "nbconvert_exporter": "python",
   "pygments_lexer": "ipython3",
   "version": "3.5.2"
  }
 },
 "nbformat": 4,
 "nbformat_minor": 1
}
